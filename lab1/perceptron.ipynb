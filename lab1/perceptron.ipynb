{
 "cells": [
  {
   "cell_type": "markdown",
   "metadata": {},
   "source": [
    "## Суворов М. Д. Группа М8О-111М-21"
   ]
  },
  {
   "cell_type": "markdown",
   "metadata": {},
   "source": [
    "### Вариант 27"
   ]
  },
  {
   "cell_type": "code",
   "execution_count": 1,
   "metadata": {},
   "outputs": [],
   "source": [
    "import numpy as np\n",
    "import matplotlib.pyplot as plt\n",
    "%matplotlib inline"
   ]
  },
  {
   "cell_type": "code",
   "execution_count": 2,
   "metadata": {},
   "outputs": [],
   "source": [
    "np.random.seed(42)"
   ]
  },
  {
   "cell_type": "markdown",
   "metadata": {},
   "source": [
    "Обучающая выборка"
   ]
  },
  {
   "cell_type": "code",
   "execution_count": 3,
   "metadata": {},
   "outputs": [],
   "source": [
    "X_train = np.array([\n",
    "            np.array([-3.8, -4.8]),\n",
    "            np.array([-2.1, -1.9]),\n",
    "            np.array([1.5, 4.5]),\n",
    "            np.array([4.3, -0.5]),\n",
    "            np.array([-2.6, 2.6]),\n",
    "            np.array([2.5, 2.4]),\n",
    "])\n",
    "y_train = np.array([1, 1, 1, 0, 1, 0]).reshape(-1,1)"
   ]
  },
  {
   "cell_type": "code",
   "execution_count": 4,
   "metadata": {},
   "outputs": [
    {
     "data": {
      "image/png": "[encoded data removed]",
      "text/plain": [
       "<Figure size 432x288 with 1 Axes>"
      ]
     },
     "metadata": {
      "needs_background": "light"
     },
     "output_type": "display_data"
    }
   ],
   "source": [
    "plt.scatter(X_train[:,0], X_train[:,1], c=y_train, s=80)\n",
    "plt.xlim(-5,5)\n",
    "plt.ylim(-5,5)\n",
    "plt.title('Training sample')\n",
    "plt.show()"
   ]
  },
  {
   "cell_type": "markdown",
   "metadata": {},
   "source": [
    "### 1.3 Алгоритм Розенблатта"
   ]
  },
  {
   "cell_type": "code",
   "execution_count": 5,
   "metadata": {},
   "outputs": [],
   "source": [
    "class Perceptron():\n",
    "\n",
    "    def __init__(self, activation):\n",
    "        if activation == 'hardline':\n",
    "            self.activation = self.hardline\n",
    "        else:\n",
    "            self.activation = self.hardline\n",
    "\n",
    "    def train(self, X, y, n_iters=10000):\n",
    "        n_samples, n_features = X.shape\n",
    "        output_nodes = y.shape[1]\n",
    "\n",
    "        # Инициализация весов\n",
    "        self.weights = np.random.rand(n_features, output_nodes)\n",
    "        self.bias = np.random.randn(output_nodes)\n",
    "        print(self.weights)\n",
    "        print(self.bias)\n",
    "\n",
    "        for i in range(n_iters):\n",
    "            # Расчёт выхода\n",
    "            a = np.dot(X, self.weights) + self.bias\n",
    "\n",
    "            y_predict = self.activation(a)\n",
    "\n",
    "            # Расчёт поправок\n",
    "            costs = y - y_predict\n",
    "            delta_w = np.dot(X.T, costs)\n",
    "            delta_b = costs\n",
    "\n",
    "            # Обновление весов\n",
    "            self.weights += delta_w\n",
    "            self.bias += delta_b.sum(axis=0)\n",
    "\n",
    "        return self.weights, self.bias\n",
    "\n",
    "\n",
    "    def hardline(self, x):\n",
    "#         res = []\n",
    "#         for i in x:\n",
    "#             tmp = []\n",
    "#             for j in i:\n",
    "#                 if j >= 0:\n",
    "#                     tmp.append(1)\n",
    "#                 else:\n",
    "#                     tmp.append(0)\n",
    "#             res.append(tmp)\n",
    "#         return res\n",
    "        return np.vectorize(lambda s: 1 if s >= 0 else 0)(x)\n",
    "    \n",
    "    def predict(self, X):\n",
    "        a = np.dot(X, self.weights) + self.bias\n",
    "        return self.activation(a)"
   ]
  },
  {
   "cell_type": "code",
   "execution_count": 6,
   "metadata": {},
   "outputs": [
    {
     "name": "stdout",
     "output_type": "stream",
     "text": [
      "[[0.37454012]\n",
      " [0.95071431]]\n",
      "[0.64768854]\n"
     ]
    }
   ],
   "source": [
    "p = Perceptron('hardline')\n",
    "w, b = p.train(X_train, y_train)"
   ]
  },
  {
   "cell_type": "markdown",
   "metadata": {},
   "source": [
    "Полученные веса и смещение"
   ]
  },
  {
   "cell_type": "code",
   "execution_count": 7,
   "metadata": {},
   "outputs": [
    {
     "data": {
      "text/plain": [
       "array([[-7.82545988],\n",
       "       [ 5.85071431]])"
      ]
     },
     "execution_count": 7,
     "metadata": {},
     "output_type": "execute_result"
    }
   ],
   "source": [
    "w"
   ]
  },
  {
   "cell_type": "code",
   "execution_count": 8,
   "metadata": {},
   "outputs": [
    {
     "data": {
      "text/plain": [
       "array([3.64768854])"
      ]
     },
     "execution_count": 8,
     "metadata": {},
     "output_type": "execute_result"
    }
   ],
   "source": [
    "b"
   ]
  },
  {
   "cell_type": "markdown",
   "metadata": {},
   "source": [
    "### 1.3.3 Обучающая выборка и дискриминантная линия"
   ]
  },
  {
   "cell_type": "code",
   "execution_count": 9,
   "metadata": {},
   "outputs": [],
   "source": [
    "def plot_hyperplane(X, y, weights, bias):\n",
    "    \"\"\"\n",
    "    Plots the dataset and the estimated decision hyperplane\n",
    "    \"\"\"\n",
    "    slope = - weights[0] / weights[1]\n",
    "    intercept = - bias / weights[1]\n",
    "    x_hyperplane = np.linspace(-10,10,10)\n",
    "    y_hyperplane = slope * x_hyperplane + intercept\n",
    "    fig = plt.figure(figsize=(8,6))\n",
    "    plt.scatter(X[:,0], X[:,1], c=y)\n",
    "    plt.plot(x_hyperplane, y_hyperplane, '-')\n",
    "    plt.title(\"Dataset and fitted decision hyperplane\")\n",
    "    plt.xlabel(\"First feature\")\n",
    "    plt.ylabel(\"Second feature\")\n",
    "    plt.grid()\n",
    "    plt.xlim(-5,5)\n",
    "    plt.ylim(-5,5)"
   ]
  },
  {
   "cell_type": "code",
   "execution_count": 10,
   "metadata": {},
   "outputs": [
    {
     "data": {
      "image/png": "[encoded data removed]",
      "text/plain": [
       "<Figure size 576x432 with 1 Axes>"
      ]
     },
     "metadata": {
      "needs_background": "light"
     },
     "output_type": "display_data"
    }
   ],
   "source": [
    "plot_hyperplane(X_train, y_train, w, b)"
   ]
  },
  {
   "cell_type": "code",
   "execution_count": 11,
   "metadata": {},
   "outputs": [
    {
     "name": "stdout",
     "output_type": "stream",
     "text": [
      "training accuracy: 100.00\n"
     ]
    }
   ],
   "source": [
    "y_train_preds = p.predict(X_train)\n",
    "print(\"training accuracy: %.2f\" %(100 - np.mean(np.abs(y_train_preds - y_train)) * 100))"
   ]
  },
  {
   "cell_type": "markdown",
   "metadata": {},
   "source": [
    "Тестовые данные"
   ]
  },
  {
   "cell_type": "code",
   "execution_count": 12,
   "metadata": {},
   "outputs": [
    {
     "data": {
      "text/plain": [
       "array([[ 2, -3],\n",
       "       [-2,  2],\n",
       "       [-2, -2],\n",
       "       [ 3,  0]])"
      ]
     },
     "execution_count": 12,
     "metadata": {},
     "output_type": "execute_result"
    }
   ],
   "source": [
    "X_test = np.random.randint(-4.5, 4.5, (4, 2))\n",
    "X_test"
   ]
  },
  {
   "cell_type": "code",
   "execution_count": 13,
   "metadata": {},
   "outputs": [
    {
     "name": "stdout",
     "output_type": "stream",
     "text": [
      "[[0]\n",
      " [1]\n",
      " [1]\n",
      " [0]]\n"
     ]
    }
   ],
   "source": [
    "y_test_preds = p.predict(X_test)\n",
    "print(y_test_preds)"
   ]
  },
  {
   "cell_type": "code",
   "execution_count": 14,
   "metadata": {},
   "outputs": [
    {
     "data": {
      "image/png": "[encoded data removed]",
      "text/plain": [
       "<Figure size 576x432 with 1 Axes>"
      ]
     },
     "metadata": {
      "needs_background": "light"
     },
     "output_type": "display_data"
    }
   ],
   "source": [
    "plt.figure(figsize=(8,6))\n",
    "plt.scatter(X_train[:,0], X_train[:,1], c=y_train, label='Train', s=80)\n",
    "plt.scatter(X_test[:,0], X_test[:,1], c=y_test_preds, label='Test', marker='*', s=80)\n",
    "slope = - w[0] / w[1]\n",
    "intercept = - b / w[1]\n",
    "x_hyperplane = np.linspace(-10,10,10)\n",
    "y_hyperplane = slope * x_hyperplane + intercept\n",
    "plt.plot(x_hyperplane, y_hyperplane, '-')\n",
    "plt.xlim(-5,5)\n",
    "plt.ylim(-5,5)\n",
    "plt.grid()\n",
    "plt.legend()\n",
    "plt.show()"
   ]
  },
  {
   "cell_type": "markdown",
   "metadata": {},
   "source": [
    "### 2. Линейно неразделимое множество. XOR-операция"
   ]
  },
  {
   "cell_type": "code",
   "execution_count": 15,
   "metadata": {},
   "outputs": [],
   "source": [
    "inputs = np.array([\n",
    "    [0,0],\n",
    "    [0,1],\n",
    "    [1,0],\n",
    "    [1,1],\n",
    "])\n",
    "output = np.array([0,1,1,0]).reshape(-1,1)"
   ]
  },
  {
   "cell_type": "code",
   "execution_count": 16,
   "metadata": {},
   "outputs": [
    {
     "data": {
      "image/png": "[encoded data removed]",
      "text/plain": [
       "<Figure size 576x432 with 1 Axes>"
      ]
     },
     "metadata": {
      "needs_background": "light"
     },
     "output_type": "display_data"
    }
   ],
   "source": [
    "plt.figure(figsize=(8,6))\n",
    "plt.scatter(inputs[:,0], inputs[:,1], c=output, label='XOR', s=80)\n",
    "plt.xlim(-1,2)\n",
    "plt.ylim(-1,2)\n",
    "plt.grid()\n",
    "plt.legend()\n",
    "plt.show()"
   ]
  },
  {
   "cell_type": "code",
   "execution_count": 17,
   "metadata": {},
   "outputs": [
    {
     "name": "stdout",
     "output_type": "stream",
     "text": [
      "[[0.60111501]\n",
      " [0.70807258]]\n",
      "[1.52302986]\n",
      "training accuracy: 50.00\n"
     ]
    }
   ],
   "source": [
    "weights, bias = p.train(inputs, output, n_iters=10)\n",
    "preds = p.predict(inputs)\n",
    "print(\"training accuracy: %.2f\" %(100 - np.mean(np.abs(preds - output)) * 100))"
   ]
  },
  {
   "cell_type": "code",
   "execution_count": 18,
   "metadata": {},
   "outputs": [
    {
     "data": {
      "text/plain": [
       "array([[1],\n",
       "       [1],\n",
       "       [1],\n",
       "       [1]])"
      ]
     },
     "execution_count": 18,
     "metadata": {},
     "output_type": "execute_result"
    }
   ],
   "source": [
    "preds"
   ]
  },
  {
   "cell_type": "code",
   "execution_count": 19,
   "metadata": {
    "scrolled": false
   },
   "outputs": [
    {
     "data": {
      "image/png": "[encoded data removed]",
      "text/plain": [
       "<Figure size 576x432 with 1 Axes>"
      ]
     },
     "metadata": {
      "needs_background": "light"
     },
     "output_type": "display_data"
    }
   ],
   "source": [
    "plot_hyperplane(inputs, output, weights, bias)"
   ]
  },
  {
   "cell_type": "markdown",
   "metadata": {},
   "source": [
    "### 3. Вторая выборка для 4-х классов"
   ]
  },
  {
   "cell_type": "code",
   "execution_count": 20,
   "metadata": {},
   "outputs": [],
   "source": [
    "X_train = np.array([\n",
    "    [-4, -3.6],\n",
    "    [-3.4, 1.2],\n",
    "    [0.7, -4.5],\n",
    "    [4.3, 2.2],\n",
    "    [2.3, -4.4],\n",
    "    [3.6, 4.3],\n",
    "    [4.8, 3.5],\n",
    "    [2.8, 0.1],\n",
    "])\n",
    "y_train = np.array([\n",
    "    [0,1],\n",
    "    [0,1],\n",
    "    [0,0],\n",
    "    [1,0],\n",
    "    [0,0],\n",
    "    [1,1],\n",
    "    [1,0],\n",
    "    [0,0],\n",
    "])\n",
    "label = np.array([0,0,1,2,1,3,2,1]).reshape(-1,1)"
   ]
  },
  {
   "cell_type": "code",
   "execution_count": 21,
   "metadata": {},
   "outputs": [
    {
     "data": {
      "image/png": "[encoded data removed]",
      "text/plain": [
       "<Figure size 576x432 with 1 Axes>"
      ]
     },
     "metadata": {
      "needs_background": "light"
     },
     "output_type": "display_data"
    }
   ],
   "source": [
    "plt.figure(figsize=(8,6))\n",
    "plt.scatter(X_train[:,0], X_train[:,1], s=80, c=label)\n",
    "plt.xlim(-5,5)\n",
    "plt.ylim(-6,5)\n",
    "plt.grid()\n",
    "plt.title('Training sample')\n",
    "plt.show()"
   ]
  },
  {
   "cell_type": "code",
   "execution_count": 22,
   "metadata": {},
   "outputs": [
    {
     "name": "stdout",
     "output_type": "stream",
     "text": [
      "[[0.02058449 0.96990985]\n",
      " [0.83244264 0.21233911]]\n",
      "[-0.46341769 -0.46572975]\n"
     ]
    },
    {
     "data": {
      "text/plain": [
       "array([[0, 1],\n",
       "       [0, 1],\n",
       "       [0, 0],\n",
       "       [1, 0],\n",
       "       [0, 0],\n",
       "       [1, 1],\n",
       "       [1, 0],\n",
       "       [0, 0]])"
      ]
     },
     "execution_count": 22,
     "metadata": {},
     "output_type": "execute_result"
    }
   ],
   "source": [
    "p = Perceptron('hardline')\n",
    "w, b = p.train(X_train, y_train)\n",
    "preds = p.predict(X_train)\n",
    "preds"
   ]
  },
  {
   "cell_type": "code",
   "execution_count": 23,
   "metadata": {},
   "outputs": [
    {
     "data": {
      "text/plain": [
       "array([[0, 1],\n",
       "       [0, 1],\n",
       "       [0, 0],\n",
       "       [1, 0],\n",
       "       [0, 0],\n",
       "       [1, 1],\n",
       "       [1, 0],\n",
       "       [0, 0]])"
      ]
     },
     "execution_count": 23,
     "metadata": {},
     "output_type": "execute_result"
    }
   ],
   "source": [
    "y_train"
   ]
  },
  {
   "cell_type": "code",
   "execution_count": 24,
   "metadata": {},
   "outputs": [
    {
     "data": {
      "text/plain": [
       "array([[ 1.02058449, -9.83009015],\n",
       "       [ 7.23244264,  9.31233911]])"
      ]
     },
     "execution_count": 24,
     "metadata": {},
     "output_type": "execute_result"
    }
   ],
   "source": [
    "w"
   ]
  },
  {
   "cell_type": "code",
   "execution_count": 25,
   "metadata": {},
   "outputs": [
    {
     "data": {
      "text/plain": [
       "array([-5.46341769,  0.53427025])"
      ]
     },
     "execution_count": 25,
     "metadata": {},
     "output_type": "execute_result"
    }
   ],
   "source": [
    "b"
   ]
  },
  {
   "cell_type": "markdown",
   "metadata": {},
   "source": [
    "### 3.5 Деление на классы и дискриминантные линии"
   ]
  },
  {
   "cell_type": "code",
   "execution_count": 26,
   "metadata": {
    "scrolled": false
   },
   "outputs": [
    {
     "data": {
      "image/png": "[encoded data removed]",
      "text/plain": [
       "<Figure size 576x432 with 1 Axes>"
      ]
     },
     "metadata": {
      "needs_background": "light"
     },
     "output_type": "display_data"
    }
   ],
   "source": [
    "slope_1 = - w[0][0] / w[1][0]\n",
    "slope_2 = - w[0][1] / w[1][1]\n",
    "intercept_1 = - b[0] / w[1][0]\n",
    "intercept_2 = - b[1] / w[1][1]\n",
    "x_hyperplane = np.linspace(-10,10,10)\n",
    "y_hyperplane_1 = slope_1 * x_hyperplane + intercept_1\n",
    "y_hyperplane_2 = slope_2 * x_hyperplane + intercept_2\n",
    "fig = plt.figure(figsize=(8,6))\n",
    "plt.scatter(X_train[:,0], X_train[:,1], c=label, s=80)\n",
    "plt.plot(x_hyperplane, y_hyperplane_1, '-', c='red')\n",
    "plt.plot(x_hyperplane, y_hyperplane_2, '-')\n",
    "plt.title(\"Dataset and fitted decision hyperplane\")\n",
    "plt.xlabel(\"First feature\")\n",
    "plt.ylabel(\"Second feature\")\n",
    "plt.grid()\n",
    "plt.xlim(-5,5)\n",
    "plt.ylim(-6,5)\n",
    "plt.show()"
   ]
  },
  {
   "cell_type": "code",
   "execution_count": 27,
   "metadata": {},
   "outputs": [
    {
     "data": {
      "text/plain": [
       "array([[ 3,  0],\n",
       "       [-3,  2],\n",
       "       [ 0,  3],\n",
       "       [-3, -4]])"
      ]
     },
     "execution_count": 27,
     "metadata": {},
     "output_type": "execute_result"
    }
   ],
   "source": [
    "X_test = np.array([[ 3,  0],\n",
    "       [-3,  2],\n",
    "       [ 0,  3],\n",
    "       [-3, -4]])\n",
    "X_test"
   ]
  },
  {
   "cell_type": "code",
   "execution_count": 28,
   "metadata": {},
   "outputs": [
    {
     "name": "stdout",
     "output_type": "stream",
     "text": [
      "[[0 0]\n",
      " [1 1]\n",
      " [1 1]\n",
      " [0 0]]\n"
     ]
    }
   ],
   "source": [
    "y_test_preds = p.predict(X_test)\n",
    "print(y_test_preds)"
   ]
  },
  {
   "cell_type": "code",
   "execution_count": 29,
   "metadata": {},
   "outputs": [],
   "source": [
    "test_label = [1, 0, 0, 3]"
   ]
  },
  {
   "cell_type": "code",
   "execution_count": 30,
   "metadata": {
    "scrolled": false
   },
   "outputs": [
    {
     "data": {
      "image/png": "[encoded data removed]",
      "text/plain": [
       "<Figure size 576x432 with 1 Axes>"
      ]
     },
     "metadata": {
      "needs_background": "light"
     },
     "output_type": "display_data"
    }
   ],
   "source": [
    "slope_1 = - w[0][0] / w[1][0]\n",
    "slope_2 = - w[0][1] / w[1][1]\n",
    "intercept_1 = - b[0] / w[1][0]\n",
    "intercept_2 = - b[1] / w[1][1]\n",
    "x_hyperplane = np.linspace(-10,10,10)\n",
    "y_hyperplane_1 = slope_1 * x_hyperplane + intercept_1\n",
    "y_hyperplane_2 = slope_2 * x_hyperplane + intercept_2\n",
    "fig = plt.figure(figsize=(8,6))\n",
    "plt.scatter(X_train[:,0], X_train[:,1], c=label, s=80, label='Train')\n",
    "plt.scatter(X_test[:,0],  X_test[:,1],  c=test_label, s=80, marker='*', label='Test')\n",
    "plt.plot(x_hyperplane, y_hyperplane_1, '-', c='red')\n",
    "plt.plot(x_hyperplane, y_hyperplane_2, '-')\n",
    "plt.title(\"Dataset and fitted decision hyperplane\")\n",
    "plt.xlabel(\"First feature\")\n",
    "plt.ylabel(\"Second feature\")\n",
    "plt.grid()\n",
    "plt.xlim(-5,5)\n",
    "plt.ylim(-6,5)\n",
    "plt.legend()\n",
    "plt.show()"
   ]
  },
  {
   "cell_type": "code",
   "execution_count": null,
   "metadata": {},
   "outputs": [],
   "source": []
  }
 ],
 "metadata": {
  "kernelspec": {
   "display_name": "Python 3",
   "language": "python",
   "name": "python3"
  },
  "language_info": {
   "codemirror_mode": {
    "name": "ipython",
    "version": 3
   },
   "file_extension": ".py",
   "mimetype": "text/x-python",
   "name": "python",
   "nbconvert_exporter": "python",
   "pygments_lexer": "ipython3",
   "version": "3.8.5"
  }
 },
 "nbformat": 4,
 "nbformat_minor": 4
}
